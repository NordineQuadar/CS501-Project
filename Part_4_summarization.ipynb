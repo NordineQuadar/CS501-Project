{
 "cells": [
  {
   "cell_type": "markdown",
   "id": "0c078d59",
   "metadata": {},
   "source": [
    "#### <h1><center>Part 4: Summarization and Q/A </center></h1>"
   ]
  },
  {
   "cell_type": "markdown",
   "id": "71fc0ce1",
   "metadata": {},
   "source": [
    "In part 4, we use the result found in part 1 and new GPT capability to extract pros and cons of the product and generate recommendation based on the reviews.\n"
   ]
  },
  {
   "cell_type": "markdown",
   "id": "b033595c",
   "metadata": {},
   "source": [
    "## 1. Data Preparation "
   ]
  },
  {
   "cell_type": "markdown",
   "id": "4650d35a",
   "metadata": {},
   "source": [
    "#### Import of different libraries that will be used in this part of the project."
   ]
  },
  {
   "cell_type": "code",
   "execution_count": 76,
   "id": "2d09dfbf",
   "metadata": {},
   "outputs": [],
   "source": [
    "import pandas as pd\n",
    "import re\n",
    "import math\n",
    "from collections import Counter\n",
    "import matplotlib.pyplot as plt\n",
    "import pygal\n",
    "from IPython.display import SVG, display\n",
    "import numpy as np\n",
    "import openai"
   ]
  },
  {
   "cell_type": "code",
   "execution_count": 77,
   "id": "3153542b",
   "metadata": {},
   "outputs": [],
   "source": [
    "openai.api_key = \"*****\"\n",
    "model_engine = \"text-davinci-003\""
   ]
  },
  {
   "cell_type": "code",
   "execution_count": 78,
   "id": "81acd658",
   "metadata": {},
   "outputs": [],
   "source": [
    "dat = pd.read_csv('asin_sample_GPT_Rev.csv')"
   ]
  },
  {
   "cell_type": "code",
   "execution_count": 79,
   "id": "11e20dc7",
   "metadata": {},
   "outputs": [],
   "source": [
    "data = dat.drop(['Unnamed: 0','reviewerID','asin','summary','unixReviewTime','reviewText_deep_clean'], axis=1)"
   ]
  },
  {
   "cell_type": "code",
   "execution_count": 80,
   "id": "e048f666",
   "metadata": {},
   "outputs": [],
   "source": [
    "data_pos = data[data['Sentiment_GPT_Score']==1]\n",
    "data_pos = data_pos[data_pos['vote'] > 0]\n",
    "data_neg = data[data['Sentiment_GPT_Score']== -1]\n",
    "data_neg = data_neg[data_neg['vote'] > 0]"
   ]
  },
  {
   "cell_type": "markdown",
   "id": "81620ac7",
   "metadata": {},
   "source": [
    "#### Find the most voted positive and negative review"
   ]
  },
  {
   "cell_type": "code",
   "execution_count": 81,
   "id": "f9a0fcdc",
   "metadata": {},
   "outputs": [
    {
     "name": "stdout",
     "output_type": "stream",
     "text": [
      "Below is the most voted Negative review with 152 votes:\n",
      "\n",
      " Our filter cracked and flooded our condo and the two floors below us too. Maybe even three floors down but after seeing the two below us I didn't have the heart to look any further. We weren't home and got a call from our neighbor at 1 am that our hallway was flooded and it all came from this water filter. It developed a huge crack along the bottom and ran continuously like a faucet into our fridge and out onto our floor and beyond. Save yourself thousands of dollars worth of damage and buy the more expensive name brand version of this filter.\n"
     ]
    }
   ],
   "source": [
    "# find the index of the row with the highest number of votes\n",
    "max_votes_index = data_neg['vote'].idxmax()\n",
    "\n",
    "# access the review with the highest number of votes\n",
    "review_with_max_votes = data_neg.loc[max_votes_index, 'reviewText']\n",
    "max_votes = data_neg.loc[max_votes_index, 'vote']\n",
    "\n",
    "# print the review with the highest number of votes\n",
    "print(\"Below is the most voted Negative review with\", max_votes, \"votes:\\n\\n\",review_with_max_votes)"
   ]
  },
  {
   "cell_type": "code",
   "execution_count": 82,
   "id": "d1893257",
   "metadata": {},
   "outputs": [
    {
     "name": "stdout",
     "output_type": "stream",
     "text": [
      "Below is the most voted Negative review with 124 votes:\n",
      "\n",
      " Have an old GE refrigerator that had a GE GWF filter in it. Purchased this filter since it had the same NSF ratings as the GE replacement filter but costs significantly less money. Installation was simple and took less than a minute. Fit was fine and there were no leaks. Flushed the filter as instructed and immediately noticed water flow was much stronger than with the old filter. Water tastes fine and there is no noticeable difference from the genuine GE filter. I am very satisfied with this product.\n"
     ]
    }
   ],
   "source": [
    "# find the index of the row with the highest number of votes\n",
    "max_votes_index = data_pos['vote'].idxmax()\n",
    "\n",
    "# access the review with the highest number of votes\n",
    "review_with_max_votes = data_pos.loc[max_votes_index, 'reviewText']\n",
    "max_votes = data_pos.loc[max_votes_index, 'vote']\n",
    "\n",
    "# print the review with the highest number of votes\n",
    "print(\"Below is the most voted Negative review with\", max_votes, \"votes:\\n\\n\",review_with_max_votes)"
   ]
  },
  {
   "cell_type": "markdown",
   "id": "2326e873",
   "metadata": {},
   "source": [
    "## 2. Pros and Cons"
   ]
  },
  {
   "cell_type": "code",
   "execution_count": 83,
   "id": "035ac4f2",
   "metadata": {},
   "outputs": [
    {
     "name": "stdout",
     "output_type": "stream",
     "text": [
      "\n",
      "Main Pros: \n",
      "- Easy installation with clear instructions\n",
      "- Significantly lower cost option with no apparent decrease in quality\n",
      "- Excellent waterflow and clean taste\n",
      "- Saves money compared to original manufacturers filter\n",
      "- Never leaks\n",
      "- Fast shipping\n",
      "\n",
      "Main cons of the product:\n",
      "- Poor quality filter that does not fit as stated\n",
      "- Causes water to come out with a yellow color and weird taste\n",
      "- Can cause damage to filter assembly resulting in a small trickle of water\n",
      "- May be faulty or defective resulting in having to return the product\n"
     ]
    }
   ],
   "source": [
    "# Get the positive and negative reviews as separate lists\n",
    "positive_reviews = data_pos['reviewText_clean'].tolist()\n",
    "negative_reviews = data_neg['reviewText_clean'].tolist()\n",
    "\n",
    "# Define the maximum prompt length\n",
    "MAX_PROMPT_LENGTH = 1799\n",
    "\n",
    "# Define the GPT-3 prompt to summarize positive features\n",
    "positive_prompt = \"Generate the main pros of the product based on the following positive reviews:\\n\"\n",
    "for review in positive_reviews:\n",
    "    prompt_length = len(positive_prompt) + len(\"- \" + review + \"\\n\")\n",
    "    if prompt_length <= MAX_PROMPT_LENGTH:\n",
    "        positive_prompt += \"- \" + review + \"\\n\"\n",
    "    else:\n",
    "        break\n",
    "\n",
    "# Define the GPT-3 prompt to summarize negative features\n",
    "negative_prompt = \"Generate the main cons of the product based on the following negative reviews:\\n\"\n",
    "for review in negative_reviews:\n",
    "    prompt_length = len(negative_prompt) + len(\"- \" + review + \"\\n\")\n",
    "    if prompt_length <= MAX_PROMPT_LENGTH:\n",
    "        negative_prompt += \"- \" + review + \"\\n\"\n",
    "    else:\n",
    "        break\n",
    "\n",
    "# Generate text using GPT-3 for positive features\n",
    "positive_response = openai.Completion.create(\n",
    "  engine= model_engine,\n",
    "  prompt=positive_prompt[:MAX_PROMPT_LENGTH],\n",
    "  max_tokens=200,\n",
    "  n=1,\n",
    "  stop=None,\n",
    "  temperature=0.5\n",
    ")\n",
    "\n",
    "# Generate text using GPT-3 for negative features\n",
    "negative_response = openai.Completion.create(\n",
    "  engine= model_engine,\n",
    "  prompt=negative_prompt[:MAX_PROMPT_LENGTH],\n",
    "  max_tokens=200,\n",
    "  n=1,\n",
    "  stop=None,\n",
    "  temperature=0.5\n",
    ")\n",
    "\n",
    "# Print the generated text\n",
    "print(positive_response.choices[0].text)\n",
    "print(negative_response.choices[0].text)"
   ]
  },
  {
   "cell_type": "markdown",
   "id": "ecad7c7a",
   "metadata": {},
   "source": [
    "## 3. Generate recommendations"
   ]
  },
  {
   "cell_type": "markdown",
   "id": "27b8d7c6",
   "metadata": {},
   "source": [
    "### We ask GPT model this question: What is your opinion about this product based on positive reviews?"
   ]
  },
  {
   "cell_type": "code",
   "execution_count": 93,
   "id": "c0feb74e",
   "metadata": {},
   "outputs": [
    {
     "name": "stdout",
     "output_type": "stream",
     "text": [
      "\n",
      "Based on the positive reviews, it appears that the GE MWF SmartWater Compatible Water Filter Cartridge is a great product. It is easy to install, provides good water flow, clean taste, and is cost effective. Customers are also pleased with the fast shipping and the fact that it does not leak. Overall, it is a great product and worth considering.\n"
     ]
    }
   ],
   "source": [
    "# define the prompt to ask for GPT-3's opinion about a product based on reviews\n",
    "prompt = \"What is your opinion about this GE MWF SmartWater Compatible Water Filter Cartridge based on the following positive reviews:\\n\"\n",
    "for review in positive_reviews:\n",
    "    prompt_length = len(prompt) + len(\"- \" + review + \"\\n\")\n",
    "    if prompt_length <= MAX_PROMPT_LENGTH:\n",
    "        prompt += \"- \" + review + \"\\n\"\n",
    "    else:\n",
    "        break\n",
    "        \n",
    "# use the OpenAI API to generate text based on the prompt\n",
    "response = openai.Completion.create(\n",
    "    engine=model_engine,\n",
    "    prompt=prompt,\n",
    "    max_tokens=250,\n",
    "    n=1,\n",
    "    stop=None,\n",
    "    temperature=0.5,\n",
    ")\n",
    "\n",
    "# get the generated text from the API response\n",
    "generated_text = response.choices[0].text\n",
    "\n",
    "# print the generated text\n",
    "print(generated_text)\n"
   ]
  },
  {
   "cell_type": "markdown",
   "id": "4a1ded02",
   "metadata": {},
   "source": [
    "### We ask GPT model this question: What is your opinion about this product based on negative reviews?"
   ]
  },
  {
   "cell_type": "code",
   "execution_count": 94,
   "id": "60685c5e",
   "metadata": {},
   "outputs": [
    {
     "name": "stdout",
     "output_type": "stream",
     "text": [
      "\n",
      "Based on these reviews, it appears that the GE MWF SmartWater Compatible Water Filter Cartridge is not a reliable product. It appears that the filter may not fit correctly, the water may come out with a yellow color and weird taste, and the filter assembly may be damaged. It is best to avoid this product and opt for a more reliable and higher quality filter.\n"
     ]
    }
   ],
   "source": [
    "# define the prompt to ask for GPT-3's opinion about a product based on reviews\n",
    "prompt = \"What is your opinion about this GE MWF SmartWater Compatible Water Filter Cartridge based on the following negative reviews:\\n\"\n",
    "# prompt = \"Please suggest some recommendation to improve the quality/service of this GE MWF SmartWater Compatible Water Filter Cartridge based on the following negative reviews:\\n\"\n",
    "for review in negative_reviews:\n",
    "    prompt_length = len(prompt) + len(\"- \" + review + \"\\n\")\n",
    "    if prompt_length <= MAX_PROMPT_LENGTH:\n",
    "        prompt += \"- \" + review + \"\\n\"\n",
    "    else:\n",
    "        break\n",
    "        \n",
    "# use the OpenAI API to generate text based on the prompt\n",
    "response = openai.Completion.create(\n",
    "    engine=model_engine,\n",
    "    prompt=prompt,\n",
    "    max_tokens=250,\n",
    "    n=1,\n",
    "    stop=None,\n",
    "    temperature=0.5,\n",
    ")\n",
    "\n",
    "# get the generated text from the API response\n",
    "generated_text = response.choices[0].text\n",
    "\n",
    "# print the generated text\n",
    "print(generated_text)\n"
   ]
  },
  {
   "cell_type": "markdown",
   "id": "5761e04c",
   "metadata": {},
   "source": [
    "### We ask GPT model this request: Suggest some recommendation to improve the quality/service of this prodcut/"
   ]
  },
  {
   "cell_type": "code",
   "execution_count": 95,
   "id": "cae7f314",
   "metadata": {},
   "outputs": [
    {
     "name": "stdout",
     "output_type": "stream",
     "text": [
      "\n",
      "1. Improve the quality control of the filters to ensure that each filter is free of any defects before packaging and shipping. \n",
      "2. Ensure that the filters are accurately described and fit properly for the intended model.\n",
      "3. Provide a warranty or guarantee for the filters, so that customers can be assured of the quality of the product.\n",
      "4. Offer a customer service helpline or online chat service to address any issues or concerns quickly and efficiently.\n",
      "5. Provide clear instructions and diagrams on how to properly install and replace the filter.\n",
      "6. Offer a satisfaction guarantee or money back policy, so customers can be sure of their purchase.\n",
      "7. Increase the durability of the filters, so that they last longer and need to be replaced less often.\n"
     ]
    }
   ],
   "source": [
    "# define the prompt to ask for GPT-3's opinion about a product based on reviews\n",
    "# prompt = \"What is your opinion about this GE MWF SmartWater Compatible Water Filter Cartridge based on the following negative reviews:\\n\"\n",
    "prompt = \"Please suggest some recommendation to improve the quality/service of this GE MWF SmartWater Compatible Water Filter Cartridge based on the following negative reviews:\\n\"\n",
    "for review in negative_reviews:\n",
    "    prompt_length = len(prompt) + len(\"- \" + review + \"\\n\")\n",
    "    if prompt_length <= MAX_PROMPT_LENGTH:\n",
    "        prompt += \"- \" + review + \"\\n\"\n",
    "    else:\n",
    "        break\n",
    "        \n",
    "# use the OpenAI API to generate text based on the prompt\n",
    "response = openai.Completion.create(\n",
    "    engine=model_engine,\n",
    "    prompt=prompt,\n",
    "    max_tokens=250,\n",
    "    n=1,\n",
    "    stop=None,\n",
    "    temperature=0.5,\n",
    ")\n",
    "\n",
    "# get the generated text from the API response\n",
    "generated_text = response.choices[0].text\n",
    "\n",
    "# print the generated text\n",
    "print(generated_text)\n"
   ]
  },
  {
   "cell_type": "markdown",
   "id": "73166122",
   "metadata": {},
   "source": [
    "### -----------------------------------------------------------------------------------------------------------------------------------------------------\n",
    "### End of project"
   ]
  },
  {
   "cell_type": "code",
   "execution_count": null,
   "id": "8bfa2cb5",
   "metadata": {},
   "outputs": [],
   "source": []
  }
 ],
 "metadata": {
  "kernelspec": {
   "display_name": "Python 3 (ipykernel)",
   "language": "python",
   "name": "python3"
  },
  "language_info": {
   "codemirror_mode": {
    "name": "ipython",
    "version": 3
   },
   "file_extension": ".py",
   "mimetype": "text/x-python",
   "name": "python",
   "nbconvert_exporter": "python",
   "pygments_lexer": "ipython3",
   "version": "3.9.12"
  }
 },
 "nbformat": 4,
 "nbformat_minor": 5
}
